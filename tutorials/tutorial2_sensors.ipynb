{
 "cells": [
  {
   "cell_type": "code",
   "execution_count": null,
   "id": "ea990441-65c3-411e-9ba3-06b92ddd3cdc",
   "metadata": {},
   "outputs": [],
   "source": [
    "import numpy as np"
   ]
  },
  {
   "cell_type": "markdown",
   "id": "87db72e8-6210-49bd-914d-2e37b0b7ae3e",
   "metadata": {},
   "source": [
    "# PyBeast Tuorial 2: Adding Sensors to Agents \n",
    "\n",
    "In this tutorial, you will learn how to use sensors in BEAST to enable agents to autonomously interact with their environment. By default, any agent that inherits from the `core.agents.animat.Animat` can be equipped with sensors. BEAST provides a variety of predefined sensors that can be instantiated using the functions provided in the `core.sensors.sensor` module. User can create their own customized sensors by inherting from the ```core.sensors.sensorbase.Sensor``` base class. \n",
    "\n",
    "In BEAST, sensors are type sensitive, i.e. they only detect agents or objects of a desired type. Specifically, the `Sensor` class has a `MatchFunc` attribute, a callable responsible for type checking.  Whenever an agent or object of the desired type is detected, the ```Sensor.EvalFunc``` is called, which updates the sensor's internal state. At any time, a sensor's output can be retrieved using the ```Sensor.GetOutput``` method. The sensor's output is filtered by the ```Sensor.ScalFunc``` attribute, which is a callable that scales the output to a desired value range, typically from -1 to 1.      \n",
    "\n",
    "Two useful sensors available in BEAST are the proximity sensor and the nearest angle sensor. You will use these sensors to create two simple experiments featuring autonomously behaving agents. "
   ]
  },
  {
   "cell_type": "markdown",
   "id": "2445504e-6c43-492a-bc5b-c1a47503a135",
   "metadata": {},
   "source": [
    "## Proximity sensor \n",
    "\n",
    "The proximity sensor functions as a beam sensor that detects objects or agents in given scope and range. Let's use the skeleton of the ```BraitenbergVehicle``` class introduced in the first tutorial and add two proximity sensors into its design.    "
   ]
  },
  {
   "cell_type": "code",
   "execution_count": null,
   "id": "de81bd61-58fa-494f-8a00-f4c70af955a4",
   "metadata": {},
   "outputs": [],
   "source": [
    "from pybeast.core.agents.animat import Animat\n",
    "from pybeast.core.sensors.sensor import ProximitySensor\n",
    "\n",
    "class BraitenbergVehicle(Animat):\n",
    "\n",
    "    def __init__(self):\n",
    "    \n",
    "        super().__init__()\n",
    "\n",
    "        leftSensor = ProximitySensor(BraitenbergVehicle, scope = np.pi/3.5, range = 200.0, orientation=np.pi/6, simple=True)\n",
    "        rightSensor = ProximitySensor(BraitenbergVehicle, scope = np.pi/3.5, range = 200.0, orientation=-np.pi/6, simple=True) \n",
    "        \n",
    "        self.AddSensor('left', leftSensor)\n",
    "        self.AddSensor('right', rightSensor)\n",
    "\n",
    "        self.SetInteractionRange(200.0)\n",
    "\n",
    "        self.SetSolid(False)\n",
    "        self.SetMaxSpeed(100.0)\n",
    "        self.SetMinSpeed(0.0)\n",
    "        self.SetRadius(10.0)\n",
    "        self.SetMaxRotationSpeed(2*np.pi)\n",
    "\n",
    "    \n",
    "    def Control(self):\n",
    "\n",
    "        lOutput = self.sensors['left'].GetOutput()\n",
    "        rOutput = self.sensors['right'].GetOutput()\n",
    "        \n",
    "        self.controls[\"left\"]  = 1.0 - lOutput\n",
    "        self.controls[\"right\"] = 1.0 - rOutput\n"
   ]
  },
  {
   "cell_type": "markdown",
   "id": "3d62b363-dbb0-4497-a5c2-9e57eb697cc3",
   "metadata": {},
   "source": [
    "In `BraitenbergVehicle.__init__` method, we call the `ProximitySensor` function to create two beam sensors. As the first argument, we pass a reference to `BraitenbergVehicle` class, i.e. the sensor detect other Braitenberg vehicles. The scope of each sensor is set to $\\pi/4$ (45 degrees), and the range is set to 200. Note that sensor range should be defined relative to the world's dimensions, which bey defauly are 800 width and 600 height. The `leftSensor` 'is oriented relative to vehicle's orientation at $+\\pi/8$ (25 degrees), i.e. it covers the vehicle's left field of vision. The ```rightSensor``` is oriented realtive to vehicle's orientation at $-\\pi/8$, i.e. it covers the vehicle's right field of vision. After instantiation, the left and right sensor are added to the vehicle using the ```Animat.AddSensor``` method. To better understand how sensors work in BEAST, let's create shiny new Braitenberg vehicle with sensors        "
   ]
  },
  {
   "cell_type": "code",
   "execution_count": null,
   "id": "97ad56f2-5de8-43d1-86a3-75ff765868e7",
   "metadata": {},
   "outputs": [],
   "source": [
    "braiti = BraitenbergVehicle()\n",
    "braiti.Init()"
   ]
  },
  {
   "cell_type": "markdown",
   "id": "c0d6524d-7a26-4a90-a486-281be162980b",
   "metadata": {},
   "source": [
    "The sensors of an agent that inherits from the ```Animat``` class can be accessed via the ```Animat.sensors``` attribute "
   ]
  },
  {
   "cell_type": "code",
   "execution_count": null,
   "id": "4855b2dc-c2e1-4007-8fc1-81fc29e52f00",
   "metadata": {},
   "outputs": [],
   "source": [
    "braiti.sensors"
   ]
  },
  {
   "cell_type": "markdown",
   "id": "8f39f9f7-7967-48f3-a21b-bf370ad60894",
   "metadata": {},
   "source": [
    "which is a dicitonary of name sensor pairs. The output of a sensor can be retrieved using the ```Sensor.GetOutput``` method as already mentioned in the introduction"
   ]
  },
  {
   "cell_type": "code",
   "execution_count": null,
   "id": "d94f2a8e-9f8d-41be-a9ca-5a7f5203372b",
   "metadata": {},
   "outputs": [],
   "source": [
    "braiti.sensors['left'].GetOutput(), braiti.sensors['right'].GetOutput() "
   ]
  },
  {
   "cell_type": "markdown",
   "id": "0ab1bad2-c847-4a3c-a8be-144dd66ce276",
   "metadata": {},
   "source": [
    "The output of both sensors is currently zero because they have not detected anything yet. To test the sensors, we need to create a simulation environment and add instances of the `BraitenbergVehicle` to its world. To control the movement of these vehicles during the simulation, we must implement the vehicle's `Control` method as discussed in the previous tutorial.\n",
    "\n",
    "To enable the `BraitenbergVehicle` to respond autonomously to other Braitenberg vehicles, we need to adjust the values in its `controls` dictionary based on the sensor outputs. To demonstrate this, we have implemented a simple control method within `BraitenbergVehicle.Control`. First, we retrieve the outputs of the left and right proximity sensors using their `GetOutput` method. By default, the ProximitySensor measures the distance to the nearest object within its detection scope and range and that matches the desired type. It then linearly scales this distance to a value between 1.0 and 0.0, i.e. closer object yield higher outputs. \n",
    "\n",
    "If both sensor outputs are zero, indicating no vehicles were detected within range, the vehicle’s left and right control values are set to 1.0, causing the vehicle to move in a straight line at maximum speed. However, if either sensor detects a vehicle (indicated by a non-zero output), the corresponding control values are decreased. Can you guess what behavior this will produce? Let's create a simulation with multiple Braitenberg vehicles to test our hypothesis."
   ]
  },
  {
   "cell_type": "code",
   "execution_count": null,
   "id": "5d9a1d0b-33ea-41cd-a50e-696e479cdb71",
   "metadata": {},
   "outputs": [],
   "source": [
    "from pybeast.core.simulation import Simulation\n",
    "\n",
    "class BraitenbergSimulation(Simulation):\n",
    "\n",
    "    def __init__(self):\n",
    "        \n",
    "        super().__init__('Breitenberg')\n",
    "\n",
    "        self.numberVehicles = 5\n",
    "        \n",
    "        self.Runs = 1\n",
    "        self.generations = 1\n",
    "        self.assessments = 1\n",
    "        self.timeSteps = -1\n",
    "        \n",
    "        self.whatToLog['Generation'] = self.whatToLog['Assessment'] = True  \n",
    "         \n",
    "    def BeginAssessment(self):\n",
    "\n",
    "        for _ in range(self.numberVehicles):\n",
    "        \n",
    "            self.theWorld.Add(BraitenbergVehicle())\n",
    "        \n",
    "        super().BeginAssessment()\n"
   ]
  },
  {
   "cell_type": "markdown",
   "id": "580d7838-586b-48b1-b56f-22f8810a4d09",
   "metadata": {},
   "source": [
    "Setting the ```BraitenbergSimulation.timeSteps``` to -1 makes the assessment run forever.  Let's run the simulation in the BEAST GUI and see how our vehicle's behave.  "
   ]
  },
  {
   "cell_type": "code",
   "execution_count": null,
   "id": "ad2776df-bcd8-442e-b967-3a2f031b70d1",
   "metadata": {},
   "outputs": [],
   "source": [
    "simulation = BraitenbergSimulation()\n",
    "simulation.RunSimulation(render=True)"
   ]
  },
  {
   "cell_type": "markdown",
   "id": "03e1070e-6d68-40d5-851d-ab89f12e6de6",
   "metadata": {},
   "source": [
    "## Nearest angle sensor\n",
    "\n",
    "The nearest angle sensor detects the relative angle to the closest agent or object that matches a specified type. It functions like a beam sensor with 360-degree scope. To demonstrate the nearest angle sensor in action, we define a `Mouse` class, modeled as a Braitenberg vehicle, that can detect and eat cheese objects. We can create custom inanimate objects by creating a new class that inherits from the `core.world.worldobject.WorldObject` base class."
   ]
  },
  {
   "cell_type": "code",
   "execution_count": null,
   "id": "656cc8b4-ba71-49da-a0dc-988b092954e1",
   "metadata": {},
   "outputs": [],
   "source": [
    "from pybeast.core.world.worldobject import WorldObject\n",
    "from pybeast.core.sensors.sensor import NearestAngleSensor\n",
    "from pybeast.core.utils.colours import ColourPalette, ColourType\n",
    "\n",
    "class Cheese(WorldObject):\n",
    "    \"\"\"Represents a cheese object.\"\"\"\n",
    "\n",
    "    def __init__(self):\n",
    "        \"\"\"Initialize a new Cheese object.\"\"\"\n",
    "        super().__init__()\n",
    "        self.SetRadius(10.0)\n",
    "        self.SetColour(*ColourPalette[ColourType.COLOUR_YELLOW])\n",
    "\n",
    "    def Eaten(self):\n",
    "        \"\"\"Handle the event when the cheese is eaten.\"\"\"\n",
    "        self.SetDead(True)\n",
    "    "
   ]
  },
  {
   "cell_type": "markdown",
   "id": "ee82e0ee-a9c2-4578-a4a4-814b2a010006",
   "metadata": {},
   "source": [
    "By default, world objects are initialized with a random position. Unlike the `Animat` class, the `WorldObject` does not implement a default `Update` method, meaning these objects remain stationary unless you explicitly define movement by implementing their `Update` method. The constructor `Cheese.__init__` sets the cheese's radius to 10.0 and its color to yellow. The `Cheese.Eaten` method is called from within the `Mouse` class whenever a collision with a cheese object occurs. This method sets the `dead` attribute to `True`, preventing the object from being displayed. With the `Cheese` class implemented, let's move on to defining the `Mouse` class.\""
   ]
  },
  {
   "cell_type": "code",
   "execution_count": null,
   "id": "1317a59f-4b9b-417b-bd66-82c8b24e4d43",
   "metadata": {},
   "outputs": [],
   "source": [
    "class Mouse(Animat):\n",
    "\n",
    "    def __init__(self, numberCheese):\n",
    "    \n",
    "        super().__init__()\n",
    "\n",
    "        self.numberCheese = numberCheese\n",
    "        \n",
    "        sensorRange = 400.0\n",
    "        angleSensor = NearestAngleSensor(Cheese, range = sensorRange)\n",
    "        \n",
    "        self.AddSensor('angle', angleSensor)        \n",
    "        self.SetInteractionRange(sensorRange)\n",
    "\n",
    "        self.SetSolid(False)\n",
    "        self.SetMaxSpeed(100.0)\n",
    "        self.SetMinSpeed(0.0)\n",
    "        self.SetRadius(10.0)\n",
    "\n",
    "        self.cheeseEaten = 0\n",
    "    \n",
    "    def Control(self):\n",
    "        \n",
    "        o = self.sensors['angle'].GetOutput()\n",
    "\n",
    "        if self.cheeseEaten < self.numberCheese:    \n",
    "            self.controls[\"left\"] = 0.5 + 0.5*o \n",
    "            self.controls[\"right\"] = 0.5 - 0.5*o    \n",
    "        else:\n",
    "            self.controls[\"left\"] = 0.0\n",
    "            self.controls[\"right\"] = 0.0\n",
    "\n",
    "    def OnCollision(self, other):\n",
    "\n",
    "        if type(other) == Cheese:\n",
    "            self.myWorld.mySimulation.logger.info('Yammi, cheese!')\n",
    "            other.Eaten()\n",
    "            self.cheeseEaten += 1 \n",
    "\n",
    "            if self.cheeseEaten == self.numberCheese:\n",
    "                self.myWorld.mySimulation.logger.info('I eaten all the cheese. Time for a nap!')"
   ]
  },
  {
   "cell_type": "markdown",
   "id": "9a2b0bd9-ba74-4bef-a83c-a54901ed1fdc",
   "metadata": {},
   "source": [
    "For the `Mouse` class, we followed a similar template to the `BraitenbergVehicle` class. The constructor `Mouse.__init__` instantiates a nearest angle sensor that detects objects of type `Cheese` and adds it to the mouse. The nearest angle sensor outputs the relative angle of the closest object of the specified type within its detection range. Objects in the sensor's left field of vision correspond to angles between 0 and 180 degrees, while objects in the right field of vision have angles ranging from 0 to -180 degrees. The sensor's `ScalFunc` scales these angles to a value range from [-1, 1]. \n",
    "\n",
    "To enable our mouse to eat the cheese, we need to implement the `Animat.OnCollision` method, which is called whenever an animat collides with another object or agent in the world. In `Mouse.OnCollision`, we first check if the object or agent the mouse collided with is of type `Cheese`. If it is, we call the `Cheese.Eaten` method and increase the mouse's count of eaten cheese by one.\n",
    "\n",
    "Based on what you've learned so far, take a look at the `Mouse.Control` method and think about what behaviour it will produce. Let's simulate the `Mouse` class to test your hypothesis. "
   ]
  },
  {
   "cell_type": "code",
   "execution_count": null,
   "id": "5bbc1379-7bdb-47ed-82d6-55cb3017bb53",
   "metadata": {},
   "outputs": [],
   "source": [
    "from pybeast.core.evolve.population import Group\n",
    "\n",
    "class MouseSimulation(Simulation):\n",
    "    \"\"\"Represents a simulation with mice and cheese.\"\"\"\n",
    "\n",
    "    def __init__(self):\n",
    "        \"\"\"Initialize a new MouseSimulation.\"\"\"\n",
    "        super().__init__('Mouse')\n",
    "\n",
    "        self.generations = 1\n",
    "        self.assessments = 1\n",
    "        self.timeSteps = -1\n",
    "        \n",
    "        self.numberCheese = 30\n",
    "        theCheeses = Group(self.numberCheese, Cheese)\n",
    "        self.Add('thecheese', theCheeses)\n",
    "        \n",
    "        self.whatToLog['Generation'] = self.whatToLog['Assessment'] = True\n",
    "\n",
    "    def BeginAssessment(self):\n",
    "\n",
    "        mouse = Mouse(self.numberCheese)\n",
    "        self.theWorld.Add(mouse)\n",
    "        \n",
    "        super().BeginAssessment()\n"
   ]
  },
  {
   "cell_type": "markdown",
   "id": "ac6d1ebd-c8f9-4657-ae46-56c1dc4deac7",
   "metadata": {},
   "source": [
    "In the constructor `MouseSimulation.__init__`, we used `core.evolve.population.Group` class to create a group 30 cheese objects. Groups can be added to the simulation using the `Simulation.Add` method, and they will be automatically added to simulation's `World` object at the beginning of the each assessment. To add the mouse to the world, the have overwritten the `Simulation.BeginAssessment`. Let's start BEAST to check whether our mouse is able to find the cheese.     "
   ]
  },
  {
   "cell_type": "code",
   "execution_count": null,
   "id": "9c094b46-ddbd-4dda-8414-f3c7f5e666c4",
   "metadata": {},
   "outputs": [],
   "source": [
    "simulation = MouseSimulation()\n",
    "simulation.RunSimulation(render=True)"
   ]
  }
 ],
 "metadata": {
  "kernelspec": {
   "display_name": "pybeast",
   "language": "python",
   "name": "pybeast"
  },
  "language_info": {
   "codemirror_mode": {
    "name": "ipython",
    "version": 3
   },
   "file_extension": ".py",
   "mimetype": "text/x-python",
   "name": "python",
   "nbconvert_exporter": "python",
   "pygments_lexer": "ipython3",
   "version": "3.12.3"
  }
 },
 "nbformat": 4,
 "nbformat_minor": 5
}
