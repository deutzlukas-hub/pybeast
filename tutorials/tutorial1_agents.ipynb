{
 "cells": [
  {
   "cell_type": "code",
   "execution_count": null,
   "id": "9a1c24bc-5462-40ce-9e5f-1c719324ffb3",
   "metadata": {},
   "outputs": [],
   "source": [
    "import numpy as np\n",
    "import matplotlib.pyplot as plt"
   ]
  },
  {
   "cell_type": "markdown",
   "id": "337666be-b5a7-45c7-967b-5bfa2303d2b4",
   "metadata": {},
   "source": [
    "# PyBEAST Tutorial 1: Designing agents and running simulations\n",
    "\n",
    "pyBEAST is an python implementation of Bioinspired Evolutionary Agent Simulation Toolkit (BEAST), an educational tool to help students to explore concepts of bio-inspired computing and game development. BEAST provides a modular framework that allows users to create and interact with simple objects and agents within a 2D environment. Agents could for example be representations of animals, robots, or other abstract objects.    \n",
    "\n",
    "In BEAST, agents can be equiped with sensors that detect objects or other agents within their vicinity. Users can specify the control logic of these agents to determine how they respond to sensor stimuli. This flexibility allows users to design agents that display complex autonomous behaviours, such as obstacle avoidance, pathfinding and hunting.   \n",
    "\n",
    "In this tutorial, you will learn how to design your own agent and implement its control logic to specify its movement during the simulation. By default, agents bn BEAST behave similar to a Braitenberg vehicle, named after the Italian cyberneticist Valentino Braitenberg. A Braitenberg vehicle has two wheels, each driven by its own motor. Typically, it is equipped with sensors whose inputs actuate the motors to generate locomotion. In such a scenario, the Braitenberg vehicle responds autonomously to the sensor input it receives from its environment. \n",
    "\n",
    "To make things simple, we start by designing a passive Braitenberg vehicle without sensors. In the next tutorial, you will learn how to incorporate sensors. So without further ado, let's design our own Braitenberg vehicle.          "
   ]
  },
  {
   "cell_type": "markdown",
   "id": "4f8dfb49-ec0f-47fd-8361-ff7dfe04b53a",
   "metadata": {},
   "source": [
    "## Braitenberg vehicle\n",
    "\n",
    "To create a custom agent, we define a new class that inherits from the `core.agents.Animat` class, which serves as the base agent class in BEAST."
   ]
  },
  {
   "cell_type": "code",
   "execution_count": null,
   "id": "7b073e92-fcf8-4730-9514-9b74fa5ba59a",
   "metadata": {},
   "outputs": [],
   "source": [
    "from pybeast.core.agents.animat import Animat\n",
    "from pybeast.core.world.world import WORLD_DISP_PARAM\n",
    "from pybeast.core.utils.vector2D import Vector2D\n",
    "\n",
    "class BraitenbergVehicle(Animat):\n",
    "\n",
    "    def __init__(self):\n",
    "    \n",
    "        super().__init__(startLocation = Vector2D(400, 300), startOrientation=np.pi/2)\n",
    "        self.SetMaxSpeed(100.0)\n",
    "        self.SetMinSpeed(0.0)\n",
    "        self.SetRadius(10.0)\n",
    "    \n",
    "    def Control(self):\n",
    "\n",
    "        self.controls['left'] = 0.5\n",
    "        self.controls['right'] = 0.5\n"
   ]
  },
  {
   "cell_type": "markdown",
   "id": "729e5748-e846-4088-b3ac-3e98e7c62ddc",
   "metadata": {},
   "source": [
    "In the constructor `BraitenbergVehicle.__init__`, we define the vehicle's start location and orientation and set values for its maximum speed, minimum speed, and radius. To control the vehicle's movement during the simulation we need to overwrite the ```Animat.Control``` method.  \n",
    "\n",
    "Let's initialize a brand new Braitenberg vehicle  "
   ]
  },
  {
   "cell_type": "code",
   "execution_count": null,
   "id": "790294a8-4f2d-418d-aa37-a8f2a1d7d049",
   "metadata": {},
   "outputs": [],
   "source": [
    "braiti = BraitenbergVehicle()\n",
    "braiti.Init()"
   ]
  },
  {
   "cell_type": "markdown",
   "id": "7169518b-36d6-43da-bf06-7ace83ca6cb9",
   "metadata": {},
   "source": [
    "The current location and orientation on an animat can be accessed via"
   ]
  },
  {
   "cell_type": "code",
   "execution_count": null,
   "id": "553adac4-8307-4a6f-b4d2-55f5665140ff",
   "metadata": {},
   "outputs": [],
   "source": [
    "braiti.location, braiti.orientation"
   ]
  },
  {
   "cell_type": "markdown",
   "id": "0d169e2a-a3bd-4b68-9c11-32606d734ee0",
   "metadata": {},
   "source": [
    "BEAST implements its on vector class ```core.utils.vector2D.Vector2D```, which can be instantiated from an x and y coordinate  "
   ]
  },
  {
   "cell_type": "code",
   "execution_count": null,
   "id": "a929aac1-a8da-41d7-a065-d32c4b7804e8",
   "metadata": {},
   "outputs": [],
   "source": [
    "vector1 = Vector2D(500, 400)"
   ]
  },
  {
   "cell_type": "markdown",
   "id": "13b4c943-e50b-4a98-a42a-f2ae38c75be5",
   "metadata": {},
   "source": [
    "The ```Vector2D``` class supports standard vector algebra operations like addition, subtraction and scalar multiplication "
   ]
  },
  {
   "cell_type": "code",
   "execution_count": null,
   "id": "08257fa0-12ea-488c-9e7e-8f8fff8c4c5e",
   "metadata": {},
   "outputs": [],
   "source": [
    "vector2 = Vector2D(200, 200) \n",
    "vector3 = vector1 - 2.0*vector2\n",
    "vector3.x, vector3.y"
   ]
  },
  {
   "cell_type": "markdown",
   "id": "b5fcdefe-591e-4937-907a-3a2db29c6bf4",
   "metadata": {},
   "source": [
    "By default, BEAST generates a rectangular 2D world. The width and height of the world can be specified via the `core.world.world.WORLD_DISP_PARAM` parameter, which defaults to                "
   ]
  },
  {
   "cell_type": "code",
   "execution_count": null,
   "id": "13365db8-678d-4f91-8808-daef5cc852b3",
   "metadata": {},
   "outputs": [],
   "source": [
    "WORLD_DISP_PARAM.width, WORLD_DISP_PARAM.height"
   ]
  },
  {
   "cell_type": "markdown",
   "id": "fc9553e5-75a4-4b89-8d0b-b25cc54c94ff",
   "metadata": {},
   "source": [
    "The origin (0, 0) of the coordinate system is located at the bottom-left corner of the world. Therefore, the x and y coordinate of an animat must be larger than 0 and smaller than the world's width and height, respectively. By default, the world has periodic boundaries, i.e. when an animat crosses one of the world boundaries it reappears on the opposite side. \n",
    "\n",
    "The x and y coordinate of the vehicle's current location   "
   ]
  },
  {
   "cell_type": "code",
   "execution_count": null,
   "id": "3064051a-994d-418f-b60d-97d92248d8e1",
   "metadata": {},
   "outputs": [],
   "source": [
    "braiti.location.x, braiti.location.y  "
   ]
  },
  {
   "cell_type": "markdown",
   "id": "3c7ca5d7-0671-4ab5-8d7d-0cca1c4d0a78",
   "metadata": {},
   "source": [
    "are equivalent to its start location specified in ```BreitenbergVehicle.__init__```. \n",
    "\n",
    "To change the vehicle's position, we need to actuate its motors. By default, each animat has a left and a right wheel, each powered by its own motor. To actuate these motors, we set values in the `Animat.control` dictionary        "
   ]
  },
  {
   "cell_type": "code",
   "execution_count": null,
   "id": "db42ac06-23b4-4c0d-86ce-73c83a529e5a",
   "metadata": {},
   "outputs": [],
   "source": [
    "braiti.controls"
   ]
  },
  {
   "cell_type": "markdown",
   "id": "43963aa9-c924-46ef-8e64-cfcecd5b94e3",
   "metadata": {},
   "source": [
    "Control values for the left and right wheels should range from 0.0 to 1.0. With both controls set to zero, the animat moves straight at its minimum speed (zero by default). With both controls set to one, it moves straight at maximum speed. If the control values differ, the animat will turn in the direction of the larger control value. The minimum and maximum speeds can be accessed through the `minSpeed` and `maxSpeed` attributes."
   ]
  },
  {
   "cell_type": "code",
   "execution_count": null,
   "id": "093655fb-4e1d-42df-8a44-1519bc250a91",
   "metadata": {},
   "outputs": [],
   "source": [
    "braiti.minSpeed, braiti.maxSpeed"
   ]
  },
  {
   "cell_type": "markdown",
   "id": "3008ed20-9117-409c-9a5f-9414a8c63613",
   "metadata": {},
   "source": [
    "The animat's control values during a simulation are set by the `Animat.Control` method, which is called during each time step of the simulation to update the values in the `Animat.controls` dictionary. Using these values and the animat's previous position and orientation, the animat's new position and orientation are calculated. For more details, refer to the implementation of the ```Animat.Update``` method. In our example, ```BraitenbergVehicle.Control``` sets both the value of the left and right controls to 0.5. Given our discussion, what kind of movement to you expect for these values? To verify, let's simulate the ```BraitenbergVehicle```. \n",
    "\n",
    "## Simulation\n",
    "\n",
    "\n",
    "For this, we need to create a new class that inherits from ```core.simulation.Simulation``` class, which serves as a base class for simulations in BEAST.  "
   ]
  },
  {
   "cell_type": "code",
   "execution_count": null,
   "id": "58165e4d-0a8b-423d-9fd0-3d55a6f35a7a",
   "metadata": {},
   "outputs": [],
   "source": [
    "from pybeast.core.simulation import Simulation  \n",
    "\n",
    "class BraitenbergSimulation(Simulation):\n",
    "\n",
    "    def __init__(self):\n",
    "        \n",
    "        super().__init__('Breitenberg')\n",
    "\n",
    "        self.whatToLog['Generation'] = self.whatToLog['Assessment'] = self.whatToLog['Update'] = True \n",
    "        self.whatToSave['Simulation'] = self.whatToSave['Update'] = True \n",
    "\n",
    "        self.breiti = BraitenbergVehicle()\n",
    "\n",
    "    def BeginAssessment(self):\n",
    "        \n",
    "        self.theWorld.Add(self.breiti)\n",
    "        super().BeginAssessment()\n",
    "\n",
    "    def CreateDataStructSimulation(self):\n",
    "        \n",
    "        self.locations, self.velocities, self.times = [], [], []\n",
    "\n",
    "    def SaveUpdate(self):\n",
    "\n",
    "        self.locations.append((self.breiti.location.x, self.breiti.location.y))\n",
    "        self.velocities.append(self.breiti.velocity.GetLength())\n",
    "        self.times.append(self.timeStep)        \n",
    "        \n",
    "        return \n"
   ]
  },
  {
   "cell_type": "code",
   "execution_count": null,
   "id": "18bb37db-7c67-45b1-b4ef-2410566f39a7",
   "metadata": {},
   "outputs": [],
   "source": [
    "simulation = BraitenbergSimulation() "
   ]
  },
  {
   "cell_type": "markdown",
   "id": "2dfc4ffc-efa8-4d7a-b518-dd89809f5f58",
   "metadata": {},
   "source": [
    "In BEAST, simulations are structured into runs, generations, assessements and timesteps. After each assessment, the fitness score of each agent is recorded. The fitness scores are used by a genetic algorithm to generate the next generation of agents, which will be explained in the third tutorial.\n",
    "\n",
    "Since our simple example does not involve evolution, we set number of runs, generations and assessments to one.  "
   ]
  },
  {
   "cell_type": "code",
   "execution_count": null,
   "id": "aa4144eb-ac93-40b4-8e43-21bfc4f9515e",
   "metadata": {},
   "outputs": [],
   "source": [
    "simulation.SetRuns(1)\n",
    "simulation.SetGenerations(1)\n",
    "simulation.SetAssessments(1)\n",
    "simulation.SetTimeSteps(100) "
   ]
  },
  {
   "cell_type": "markdown",
   "id": "acdc01f5-30f5-4ae7-a850-e10a50af7425",
   "metadata": {},
   "source": [
    "Each `Simulation` instance has an attribute ```theWorld``` which is an instance of the ```core.world.world.World``` class representing the world the agents live in    "
   ]
  },
  {
   "cell_type": "code",
   "execution_count": null,
   "id": "6b29fdaf-6aba-4ea2-a6fa-260be4d086ab",
   "metadata": {},
   "outputs": [],
   "source": [
    "simulation.theWorld"
   ]
  },
  {
   "cell_type": "markdown",
   "id": "0694455b-b347-4f29-a1e3-66c33f04555e",
   "metadata": {},
   "source": [
    "Agents and objects must be added to the world at the start of each assessment, which is handeled by the `Simulation.BeginAssessment` method. In `BraitenbergSimulation.BeginAssessment`, we use the `World.Add` method to add the `breiti` vehicle the world using the  method.\n",
    "\n",
    "To save simulation output, we need to create data containers and tell the simulation object to save the the output variables of interest. The ```Simulation``` class allows user to create data containers at the beginning of a simulation, run, generation and assessment, by implementing the ```Simulation.CreateDataStructure...``` methods. We can populate these containers with simulation data from individual runs, generations, assessments or timesteps by implementing the ```Simulation.Save...``` methods.      \n",
    "In the `BraitenbergSimulation` class,  `CreateDataStructureSimulation` initializes two lists `self.locations` and `self.velocities`, to store the vehicle's location and velocity during the simulation. The ```BraitenbergSimulation.SaveUpdate``` method is called after each time step to append the vehicle's current location and velocity to the ```self.locations``` and ```self.velocities``` lists. \n",
    "\n",
    "Now, let's run the simulation and plot the vehicle's position and velocity over time. "
   ]
  },
  {
   "cell_type": "code",
   "execution_count": null,
   "id": "f0b61cc1-4f39-4d6d-86ec-68dfa271aecf",
   "metadata": {},
   "outputs": [],
   "source": [
    "simulation.RunSimulation(render=False)"
   ]
  },
  {
   "cell_type": "markdown",
   "id": "8baafa69-9adb-440f-8281-879a1ff6391b",
   "metadata": {},
   "source": [
    "To plot the position and velocity of the vehicle as a function of time, we access the data in the `locations` and `velocities` attributes"
   ]
  },
  {
   "cell_type": "code",
   "execution_count": null,
   "id": "f0f4e10e-d650-4571-8a45-c808fca54674",
   "metadata": {},
   "outputs": [],
   "source": [
    "x_arr = [vec[0] for vec in simulation.locations]\n",
    "y_arr = [vec[1] for vec in simulation.locations]\n",
    "\n",
    "plt.figure(figsize = (10, 5))\n",
    "gs = plt.GridSpec(1, 2)\n",
    "ax0 = plt.subplot(gs[0])\n",
    "ax1 = plt.subplot(gs[1])\n",
    "\n",
    "ax0.plot(x_arr, y_arr, '-')\n",
    "ax0.plot(x_arr[0], y_arr[0], 'o', c='g')\n",
    "ax0.plot(x_arr[-1], y_arr[-1], 'o', c='r')\n",
    "ax0.set_xlabel('$x$')\n",
    "ax0.set_ylabel('$y$')\n",
    "\n",
    "ax1.plot(simulation.times, simulation.velocities)\n",
    "ax1.set_xlabel(r'time')\n",
    "ax1.set_ylabel('speed')"
   ]
  },
  {
   "cell_type": "markdown",
   "id": "4a5ffb58-3374-44a8-8fd2-96dbf5ec8991",
   "metadata": {},
   "source": [
    "## Questions:\n",
    "\n",
    "1. Think about how you could change the ```BraitenbergVehicle.Control``` so that the vehicle goes in a circle and not in a straight line.\n",
    "2. How can you make the vehicle go counter clockwise or clockwise?\n",
    "3. How can you make the radius of the cirle smaller/larger?\n",
    "\n",
    "Rerun the simulation to confirm that your changes work as expected."
   ]
  },
  {
   "cell_type": "markdown",
   "id": "57a20fae-4e06-4b12-865c-68d9c8e504aa",
   "metadata": {},
   "source": [
    "# Random control\n",
    "\n",
    "In the current implementation of the ```BraitenbergVehicle.Control``` method,  the left and right control values are set to constant value. This implies that vehicle will always follow the same trajectory no matter how often we rerun the simulation. To make things a bit more intersting, let's add some randomness to the ```BraitenbergVehicle.Control``` method.      "
   ]
  },
  {
   "cell_type": "code",
   "execution_count": null,
   "id": "b089bbd0-c3cd-4cb6-819f-74a6368cac99",
   "metadata": {},
   "outputs": [],
   "source": [
    "class BraitenbergVehicle(Animat):\n",
    "\n",
    "    def __init__(self):\n",
    "    \n",
    "        super().__init__(startLocation = Vector2D(400, 300), startOrientation=np.pi/2)\n",
    "        self.SetMaxSpeed(100.0)\n",
    "        self.SetMinSpeed(0.0)\n",
    "        self.SetRadius(10.0)\n",
    "        self.lastTurn = 'left'\n",
    "        self.controls['left'] = 0.6    \n",
    "        self.controls['right'] = 0.4\n",
    "    \n",
    "    def Control(self):\n",
    "\n",
    "        if np.random.rand() < 0.1:\n",
    "            if self.lastTurn == 'left':\n",
    "                self.controls['right'] = 0.6    \n",
    "                self.controls['left'] = 0.4\n",
    "                self.lastTurn = 'right'\n",
    "            elif self.lastTurn == 'right':\n",
    "                self.controls['left'] = 0.6\n",
    "                self.controls['right'] = 0.4\n",
    "                self.lastTurn = 'left'\n",
    "            else:\n",
    "                assert False\n",
    "\n",
    "class BraitenbergSimulation(Simulation):\n",
    "\n",
    "    def __init__(self):\n",
    "        \n",
    "        super().__init__('Breitenberg')\n",
    "\n",
    "        self.Runs = 1\n",
    "        self.generations = 1\n",
    "        self.assessments = 5\n",
    "        self.timeSteps = 250\n",
    "        \n",
    "        self.whatToLog['Generation'] = self.whatToLog['Assessment'] = self.whatToLog['Update'] = True \n",
    "        self.whatToSave['Simulation'] = self.whatToSave['Assessment'] = self.whatToSave['Update'] = True \n",
    "\n",
    "    def BeginAssessment(self):\n",
    "\n",
    "        self.breiti = BraitenbergVehicle()\n",
    "        self.theWorld.Add(self.breiti)\n",
    "        super().BeginAssessment()\n",
    "\n",
    "    def CreateDataStructSimulation(self):\n",
    "        \n",
    "        self.allLocations = []\n",
    "\n",
    "    def CreateDataStructAssessment(self):\n",
    "\n",
    "        self.locations = []\n",
    "\n",
    "    def SaveAssessment(self):\n",
    "\n",
    "        self.allLocations.append(self.locations.copy())\n",
    "\n",
    "    def SaveUpdate(self):\n",
    "\n",
    "        self.locations.append((self.breiti.location.x, self.breiti.location.y))\n"
   ]
  },
  {
   "cell_type": "markdown",
   "id": "1af3c447-193f-47d8-8977-e90669084f83",
   "metadata": {},
   "source": [
    "Note that we changed the number of assessments to 5 in the `BraitenbergSimulation.__init__`. To save the vehicle's position during each assessment, we create a list `self.locations` at the beginning of each asssesment by overwriting the `Simulation.CreateDataStructAssessment` method. At end of each assessment, we use the `SaveAssessment` method to append a copy of this list to `self.allLocations`, which is initialized at the beginning of the simulation when ```CreateDataStructSimulation``` is called. Let's run the simulation and plot the position of the vehicle during each assessment."
   ]
  },
  {
   "cell_type": "code",
   "execution_count": null,
   "id": "18bc71a8-69ec-480f-b3f8-7da28194288e",
   "metadata": {},
   "outputs": [],
   "source": [
    "simulation = BraitenbergSimulation() \n",
    "simulation.RunSimulation(render=False)"
   ]
  },
  {
   "cell_type": "code",
   "execution_count": null,
   "id": "a7c5e5b4-66a3-4e47-b63a-bb36dd987940",
   "metadata": {},
   "outputs": [],
   "source": [
    "plt.figure(figsize = (10, 5))\n",
    "\n",
    "for location in simulation.allLocations:\n",
    "\n",
    "    x_arr = [vec[0] for vec in location]\n",
    "    y_arr = [vec[1] for vec in location]\n",
    "\n",
    "    plt.plot(x_arr, y_arr, '-')\n",
    "    plt.plot(x_arr[0], y_arr[0], 'o', c='k')\n",
    "    plt.plot(x_arr[-1], y_arr[-1], 'o', c='k')\n",
    "\n",
    "ax0.set_xlabel('$x$')\n",
    "ax0.set_ylabel('$y$')"
   ]
  },
  {
   "cell_type": "markdown",
   "id": "1a96cc90-9dc7-4515-9510-7195ddba5c13",
   "metadata": {},
   "source": [
    "Why do some of the vehicle's trajectories contain straight vertical and horizontal lines? \n",
    "\n",
    "To visualize the simulation in real time, you can use the BEAST's GUI. To start the GUI set the `render` parameter in the `Simulation.RunSimulation` method to `True`. Select the start item in the Simulation drop-down menu to begin rendering the simulation. "
   ]
  },
  {
   "cell_type": "code",
   "execution_count": null,
   "id": "a402d1f1-b6ff-43fc-b922-43e9de9ac9cb",
   "metadata": {},
   "outputs": [],
   "source": [
    "simulation.RunSimulation(render=True)"
   ]
  }
 ],
 "metadata": {
  "kernelspec": {
   "display_name": "pybeast",
   "language": "python",
   "name": "pybeast"
  },
  "language_info": {
   "codemirror_mode": {
    "name": "ipython",
    "version": 3
   },
   "file_extension": ".py",
   "mimetype": "text/x-python",
   "name": "python",
   "nbconvert_exporter": "python",
   "pygments_lexer": "ipython3",
   "version": "3.12.3"
  }
 },
 "nbformat": 4,
 "nbformat_minor": 5
}
