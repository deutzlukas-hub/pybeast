{
 "cells": [
  {
   "cell_type": "code",
   "execution_count": null,
   "id": "00a25d18-fd0c-4221-941a-696c9e0018e4",
   "metadata": {},
   "outputs": [],
   "source": [
    "import numpy as np\n",
    "import matplotlib.pyplot as plt\n",
    "import pickle"
   ]
  },
  {
   "cell_type": "markdown",
   "id": "44784ef4-b63e-41e9-8cf5-c965b8d31e00",
   "metadata": {},
   "source": [
    "# BEAST: Coursework\n",
    "\n",
    "In this coursework, you will learn how to use genetic algorithms (GA). GA are bio-inspired optimization algorithms, i.e. they aim to find an optimal solution for a given problem. \n",
    "\n",
    "The coursework is centered around BEAST (Bioinspired Evolutionary Agent Simulation Toolkit). BEAST is an educational tool to help students to explore concepts of bio-inspired computing and game development. BEAST provides a modular framework that allows the user to design simple objects and agents within a 2D environment. Agents could for example be representations of animals, robots, or other abstract objects.    \n",
    "\n",
    "In BEAST, agents can be equiped with sensors that detect objects or other agents in their proximity. Users have the ability to specify the control logic of their agents to determine how they respond to sensor stimuli. This flexibility allows users to design agents that display complex autonomous behaviours, such as obstacle avoidance, pathfinding and hunting.   \n",
    "\n",
    "BEAST implements its own genetic algorithm (GA) that can be used to optimize an agent's control logic for a specified tasks. To employ the GA, the user must specify a performance metric and a relevant set of hyperparameters that affect the agent's task-related behaviour. The genetic algorithm then aims to iteratively refine these hyperparameters to improve the agent's performance. To find optimal parameter solutions, the GA searches the parameter space utilizing concepts from evolutionary biology such as genetic crossover and mutation. \n",
    "\n",
    "BEAST can be used in two ways. Firstly, it can be imported as a Python module, allowing the user to write scripts that create and run simulations. Simulations can be run without (fast) and with (slow) rendering. BEAST utitlizes OpenGL for real-time rendering, depicting the movement and interactions of agents and objects within their environment. Alternatively, BEAST provides a graphical user interface (GUI) including a set of predefined demo simulations. The GUI can be launched from within a python script, allowing users to run, render and save their own customized simulation. \n",
    "\n",
    "The courswork will be organized as follows: In the first part, you will design a mouse agent and use a GA to train a population of mice to find cheese in their environment. Doing so, you will learn about how the GA selects and evolves agents to improve their performance. You will experiment with different performance metrics and sensor configuration to see how this effects the mice performance. In part two, you will design both predator and pray agents. You will then use a GA to evolve populations of predators and pray simultanouesly, exploring the concept co-evolution.             \n",
    "\n",
    "---\n",
    "\n",
    "If you want to learn more about agent design, control logic, sensors, and GA in BEAST have a look at tutorials in `tutorials` directory. "
   ]
  },
  {
   "cell_type": "markdown",
   "id": "6474e103-2c84-4dd4-b6bf-370dbb90c721",
   "metadata": {},
   "source": [
    "## Part 1: The Quest for Cheese\n",
    "\n",
    "In the first stage of experiment design, we need to define the agents and objects that will populate the simulated world. BEAST provides base classes for agents and objects that can be inherited from and customized. First, we define the `Cheese` class that inherits from the `core.world.worldobject.WorldObject` class          "
   ]
  },
  {
   "cell_type": "code",
   "execution_count": null,
   "id": "2f0973df-78fc-48e3-84d2-b94bb632e981",
   "metadata": {},
   "outputs": [],
   "source": [
    "from pybeast.core.world.worldobject import WorldObject\n",
    "from pybeast.core.utils.colours import ColourPalette, ColourType\n",
    "\n",
    "class Cheese(WorldObject):\n",
    "    \"\"\"Represents a cheese object.\"\"\"\n",
    "\n",
    "    def __init__(self):\n",
    "        \"\"\"Initialize a new Cheese object.\"\"\"\n",
    "        super().__init__()\n",
    "        self.SetRadius(5.0)\n",
    "        self.SetColour(*ColourPalette[ColourType.COLOUR_YELLOW])\n",
    "\n",
    "    def Eaten(self):\n",
    "        \"\"\"Respawn cheese at random location after it's eaten.\"\"\"\n",
    "        self.location = self.myWorld.RandomLocation()\n"
   ]
  },
  {
   "cell_type": "markdown",
   "id": "336c4906-f679-4d02-a030-638c3a34d24e",
   "metadata": {},
   "source": [
    "The `WorldObject` class provides a template for inanimat static objects. By default, instances that inherit from `WorldObject` are initialized at a random location within the world. In the constructor `Cheese.__init__`, we set the colour and radius of the cheese. \n",
    " \n",
    "Next, we define the `Mouse` class that inherits from ```core.agents.neuralanimat.EvoFFNAnimat``` class   "
   ]
  },
  {
   "cell_type": "code",
   "execution_count": null,
   "id": "83fb825f-bdf7-446b-b1b1-121191ccf933",
   "metadata": {},
   "outputs": [],
   "source": [
    "from pybeast.core.agents.neuralanimat import EvoFFNAnimat\n",
    "from pybeast.core.sensors.sensor import NearestAngleSensor\n",
    "\n",
    "class Mouse(EvoFFNAnimat):\n",
    "    \"\"\"\n",
    "    Evovable mouse with Feed-forward neural network as brain. \n",
    "    \"\"\"\n",
    "\n",
    "    def __init__(self, hidden = 4):\n",
    "        \n",
    "        super().__init__()\n",
    "\n",
    "        self.cheesesFound = 0\n",
    "        self.SetSolid(False)\n",
    "\n",
    "        sensorRange = 400\n",
    "        self.AddSensor(\"angle\", NearestAngleSensor(Cheese, range=sensorRange))\n",
    "        self.SetInteractionRange(sensorRange)\n",
    "        self.AddFFNBrain(hidden = hidden)\n",
    "    \n",
    "    def Control(self):\n",
    "        \"\"\"\n",
    "        Overwrite EvoFFNAnimat control method\n",
    "        \"\"\"\n",
    "        # Make brain fire, set output values within range from -1.0 to 1.0 \n",
    "        super().Control()\n",
    "\n",
    "        # Here, we add a bias so that control values are between 0 and 1\n",
    "        for n, k in enumerate(self.controls.keys()):\n",
    "            self.controls[k] = 0.5 * (self.controls[k] + 1.0)\n",
    "\n",
    "    def Reset(self):\n",
    "        \"\"\"\n",
    "        Resets mouse after assessment\n",
    "        \"\"\"\n",
    "        self.cheesesFound = 0\n",
    "        super().Reset()\n",
    "\n",
    "    def OnCollision(self, obj):\n",
    "        \"\"\"\n",
    "        OnCollision is called whenever the mouse agent collides with another object in the world.  \n",
    "        \"\"\"\n",
    "        if isinstance(obj, Cheese):\n",
    "            # your implementation goes here\n",
    "            pass\n",
    "            \n",
    "            self.cheesesFound += 1\n",
    "            obj.Eaten()\n",
    "\n",
    "    def GetFitness(self) -> float:\n",
    "\n",
    "        pass\n",
    "        # your implementation goes here\n",
    "    \n",
    "        return self.cheesesFound "
   ]
  },
  {
   "cell_type": "markdown",
   "id": "cb5e384b-60eb-48e0-a6b2-981c7af08246",
   "metadata": {},
   "source": [
    "In the constructor ```Mouse.__init__```, we \n",
    "\n",
    "1. initialize the ```self.cheesesFound``` counter which stars at zero,\n",
    "2. set the solid attribute to ```False```,\n",
    "3. add a nearest angle sensor to the mouse,\n",
    "4. add a brain (neural feed-foward network) to the mouse.  \n",
    "\n",
    "If the `solid` attribute is set to `False`, then collisions to not alter the trajectory of the agent. Whenver an agent collides with another object in the world, its `OnCollision` method is called.       "
   ]
  },
  {
   "cell_type": "markdown",
   "id": "c98063e1-cf45-4c68-80b7-0f71c059b659",
   "metadata": {},
   "source": [
    "---\n",
    "\n",
    "### Question 1.1\n",
    "\n",
    "Implement the `Mouse.Collision` method such that it keeps track of the number of cheese eaten by the mouse and respawns the cheese at a random location in the world.\n",
    "\n",
    "---"
   ]
  },
  {
   "cell_type": "markdown",
   "id": "578b303e-d328-4c38-90c1-82c96fab7247",
   "metadata": {},
   "source": [
    "To train the mice with a genetic algorithm (GA) we need to define a\n",
    "\n",
    "1. performance metric commonly referred to as the agent's fitness,\n",
    "2. a set of hyperparameters that control the agent's task related behaviour and will be optimized by the GA.  \n",
    "\n",
    "In BEAST, an agent's fitness can be specified in its ```GetFitness``` method which needs to return a single scalar value.       "
   ]
  },
  {
   "cell_type": "markdown",
   "id": "434d3c7b-87f3-4474-b66c-de50c88e1bae",
   "metadata": {},
   "source": [
    "---\n",
    "\n",
    "### Question 1.2\n",
    "\n",
    "Implement the `Mouse.GetFitness` method such that mouse's fitness is equal to number of cheese it has eaten.\n",
    "\n",
    "---"
   ]
  },
  {
   "cell_type": "markdown",
   "id": "2ee95864-69d6-43f1-abea-60792dcd3f16",
   "metadata": {},
   "source": [
    "The `Mouse` class inherits from `EvoFFNAnimat` class, which  implements its own control logic. This control logic inputs the agent's sensor output into its brain (neural network) and uses the network's output to actuate the agent's left and right wheels.\n",
    "\n",
    "The  `Mouse` class uses a nearest angle sensor that detects cheese objects in the specified range. Note that a sensor's detection range must be chosen in proportion to the size of the world the agents inhabit. By default, BEAST uses a rectangular world with default dimensions of (800, 600). The nearest angle sensor outputs the relative angle between mouse and the closest detected cheese object. Output angles are rescaled to a value range from -1.0 to 1.0 as shown in picture below.\n",
    "\n",
    "At every timestep of the simulation, the nearest angle sensor's output is retrieved and inputed into the brain of the mouse. By default, the neural network generates two output values. The first value actuates the left and the second the right wheel. Let's instantiate a mouse object to better understand how this all works"
   ]
  },
  {
   "cell_type": "code",
   "execution_count": null,
   "id": "d3e0aede-8e2c-4fe9-9966-fc6809d59dbb",
   "metadata": {
    "scrolled": true
   },
   "outputs": [],
   "source": [
    "StuartLittle = Mouse()"
   ]
  },
  {
   "cell_type": "markdown",
   "id": "c0540fdd-6b81-474b-a8cf-694f68465280",
   "metadata": {},
   "source": [
    "The mouse's brain of the  can be accessed via the ```myBrain``` attribute"
   ]
  },
  {
   "cell_type": "code",
   "execution_count": null,
   "id": "873a5ca6-abbd-4ccc-9269-b4b33e9b48ed",
   "metadata": {},
   "outputs": [],
   "source": [
    "StuartLittle.myBrain"
   ]
  },
  {
   "cell_type": "markdown",
   "id": "e62d2f26-1336-466e-8538-e53f62ee3a2e",
   "metadata": {},
   "source": [
    "### Question 1.3: \n",
    "\n",
    "Have a look at the implementation of the ```core.agents.neuralanimat.FFNAnimat.AddFFNBrain``` method which instantiates a object of the ```core.control.feedforwardnet.FeedForwardNet``` class. Based on the implementation of the `Mouse` class, how many inputs does the mouse brain receive, how many neurons are in its hidden layer, and how many outputs does it generate? Draw a network diagram which shows the connections and biases between input, hidden, and output layer.             "
   ]
  },
  {
   "cell_type": "markdown",
   "id": "f26e4e01-1c98-4080-a762-ed5de6aadff6",
   "metadata": {},
   "source": [
    "---\n",
    "\n",
    "***Your answer to question 1.3 goes here***\n",
    "\n",
    "---"
   ]
  },
  {
   "cell_type": "markdown",
   "id": "46cd713a-9d47-472f-87bd-a0feacc9f885",
   "metadata": {},
   "source": [
    "Weights and biases in the mouse's brain are initialized randomly. Their values can be retrieved using the ```FeedForwardNet.GetConfiguration``` method "
   ]
  },
  {
   "cell_type": "code",
   "execution_count": null,
   "id": "a4beba48-fa31-499d-80db-5d71c502d711",
   "metadata": {},
   "outputs": [],
   "source": [
    "StuartLittle.myBrain.GetConfiguration()"
   ]
  },
  {
   "cell_type": "markdown",
   "id": "332100f3-8ff2-470c-b57b-80d4bb00c96b",
   "metadata": {},
   "source": [
    "The dictionary returned by `GetConfiguration` uniquely defines the brain's \n",
    "configuration.\n",
    "\n",
    "To make the mouse class evolvable, we need to specify which of its parameters will be optimized by the GA. The list of parameters optimized by the GA are commonly referred to as the agent's genome. Therefore, in BEAST, evolvable agents must implement the `GetGenotype` method which should return a list of scalars. The `EvoFFNAnimat` class provides a default implementation of the `GetGenotype` method, which takes the values in the brain's configuration dictionary and flattens them into a list   "
   ]
  },
  {
   "cell_type": "code",
   "execution_count": null,
   "id": "73196fe7-a159-428e-9c82-197ecbadce3d",
   "metadata": {
    "scrolled": true
   },
   "outputs": [],
   "source": [
    "StuartLittle.GetGenotype()"
   ]
  },
  {
   "cell_type": "markdown",
   "id": "bf242f8e-266c-4f1a-b55b-fa4aaf4ce45f",
   "metadata": {},
   "source": [
    "### Question 1.4: \n",
    "\n",
    "Briefly explain the relationship between the values in the mouse's genome and the weights (connections) and biases within its brain. Assign the values in the genome to the connections and biases in the network diagram from Question 1.2. Include a copy of the genome (list of values) as part of your answer.  "
   ]
  },
  {
   "cell_type": "markdown",
   "id": "97fd80a6-5ce0-464f-a3b4-097739afb26f",
   "metadata": {},
   "source": [
    "---\n",
    "\n",
    "***Your answer to question 1.4 goes here***\n",
    "\n",
    "---"
   ]
  },
  {
   "cell_type": "markdown",
   "id": "7575309c-02eb-4ad3-a8c7-49aade75b042",
   "metadata": {},
   "source": [
    "By now, you should have a solid grasp of the control logic of the `Mouse` class, its brain architecture, and the network parameters comprising its genome. Next, you will use a GA to evolve the brains of a mice population, improving their ability to locate and collect cheese.  \n",
    "\n",
    "In BEAST, users can create and run new simulations by defining new classes that inherit from the `core.simulation.Simulation` base class. To learn how this is done, let's define a new `MouseSimulation` class"
   ]
  },
  {
   "cell_type": "code",
   "execution_count": null,
   "id": "4b1d73fe-aba9-4537-a769-23899b5af789",
   "metadata": {},
   "outputs": [],
   "source": [
    "from pybeast.core.simulation import Simulation\n",
    "from pybeast.core.evolve.geneticalgorithm import GeneticAlgorithm, GASelectionType\n",
    "from pybeast.core.evolve.population import Group, Population\n",
    "\n",
    "class MouseSimulation(Simulation):\n",
    "    \"\"\"Represents a simulation with mice and cheese.\"\"\"\n",
    "\n",
    "    def __init__(self):\n",
    "        \"\"\"Initialize a new MouseSimulation.\"\"\"\n",
    "        super().__init__('Mouse')\n",
    "\n",
    "        self.SetRuns(1)\n",
    "        self.SetGenerations(10)        \n",
    "        self.SetTimeSteps(500)\n",
    "        self.theGA = GeneticAlgorithm(crossover = 0.25, mutation = 0.1, selection = GASelectionType.GA_ROULETTE)\n",
    "        \n",
    "        mice = Population(30, Mouse, self.theGA)\n",
    "        cheese = Group(30, Cheese)\n",
    "        # Adds population of mice and group of cheese to the simulation \n",
    "        self.Add('theMice', mice)\n",
    "        self.Add('thecheese', cheese)\n",
    "        \n",
    "        self.whatToLog['Simulation'] = self.whatToLog['Run'] = self.whatToLog['Generation'] = True\n",
    "        self.whatToSave['Simulation'] = self.whatToSave['Run'] = self.whatToSave['Generation'] = True\n",
    "\n",
    "    def LogEndGeneration(self):\n",
    "        super().LogEndGeneration()\n",
    "        self.logger.info(f'Average fitness {self.avgFitness:.5f}')\n",
    "\n",
    "    def CreateDataStructSimulation(self):\n",
    "        self.data = {}\n",
    "\n",
    "    def CreateDataStructRun(self):\n",
    "        self.averageFitness = []\n",
    "\n",
    "    def SaveGeneration(self):\n",
    "        self.avgFitness = np.mean(self.contents['theMice'].AverageFitnessScoreOfMembers())\n",
    "        self.averageFitness.append(self.avgFitness)\n",
    "\n",
    "        return\n",
    "\n",
    "    def SaveRun(self):\n",
    "        self.data[f'Run{self.Run}'] = self.averageFitness\n"
   ]
  },
  {
   "cell_type": "markdown",
   "id": "3b9733a6-7d68-41df-8bec-0ba894fd6b15",
   "metadata": {},
   "source": [
    "In the constructor `MouseSimulation.__init__`, we \n",
    "\n",
    "1. set the number of runs, generations, assessments and timesteps of the simulation,    \n",
    "2. create an instance of the `core.evolve.geneticalgorithm.GeneticAlgorithm` class,\n",
    "3. create a population of mice, and a group of cheese and add them to simulation,\n",
    "4. configure logging and save flags.\n",
    "\n",
    "In BEAST, simulations are organized into runs, generations, assessements and timesteps. After each assessment, the `GetFitness` method of each agent in the population is called and its fitness score is recorded. Each generation undergoes a set number of assessments. At the end of each generation, the GA generates a new generation from the gene pool of the agent's in the current generation. Parent agents are seleted for reproduction based on the fitness scores they achieved during the individual assessments. The `GeneticAlgorithm` class support three selection methods:\n",
    "\n",
    "1. Roulette selection\n",
    "2. Rank selection\n",
    "3. Tournament selection\n",
    "\n",
    "Roulette and rank selection assign a selection probability to all agent's based on their fitness scores, whereas tournament selection selects agent's randomly, but determines the winner of each pairing based on their fitness scores.  "
   ]
  },
  {
   "cell_type": "markdown",
   "id": "90341348-14c3-42f8-af25-e2203281bfc8",
   "metadata": {},
   "source": [
    "### Question 1.5\n",
    "\n",
    "Examine the implementation of `core.evolve.geneticalgorithm.GeneticAlgorithm class`. Based on the implementation of the `GeneticAlgorithm.CalcStats` and `GeneticAlgorithm.Setup` methods, describe how the agent's selection probability is calculated in case of roulette and rank selection. Also explain the role of the `culling` and `elitism` parameters during the selection process. Contrast roulette and rank selection with tournament selection which is implemented in the `GeneticAlgorithm.SelectTournament` method. Discuss possible pros and cons of the different selection methods.          "
   ]
  },
  {
   "cell_type": "markdown",
   "id": "a8e02a12-1023-4fa8-83d8-1219063546a1",
   "metadata": {},
   "source": [
    "---\n",
    "\n",
    "**Your answer for question 1.5 goes here**\n",
    "\n",
    "---"
   ]
  },
  {
   "cell_type": "markdown",
   "id": "d472fba6-7617-44a5-880f-3ec22d3559a8",
   "metadata": {},
   "source": [
    "Following selection, the GA crosses and mutates the parent's genomes, creating two children agents. Crossover's and mutations occur with a constant probability which can be specified by the `crossover` and `mutation` parameter.      "
   ]
  },
  {
   "cell_type": "markdown",
   "id": "c3b2743f-714c-40c6-9956-1e254abed7bc",
   "metadata": {},
   "source": [
    "### Question 1.6\n",
    "\n",
    "Examine the `Generate` method within the `GeneticAlgorithm` class. Explain what happens during crossovers and discuss the role of the `crossoverPoints` parameter. Also, explain the mutation process. Discuss the roles that crossovers and mutations serve during parameter space exploration.      "
   ]
  },
  {
   "cell_type": "markdown",
   "id": "67ef659f-9f91-4660-a008-ba00314c67ba",
   "metadata": {},
   "source": [
    "---\n",
    "\n",
    "**Your answer for question 1.6 goes here**\n",
    "\n",
    "---"
   ]
  },
  {
   "cell_type": "markdown",
   "id": "42270615-f858-46a1-817c-4dee1913d6ac",
   "metadata": {},
   "source": [
    "Now that you have a practical understanding of how the GA works. Let's run and render the simulation by calling the `core.simulation.Simulation.RunSimulation` method. If the `render` paramter is set to `True`, then the method launches the BEAST GUI. To start the simulation, select the *Start* item in the Simulation drop-down menu of the GUI.  "
   ]
  },
  {
   "cell_type": "code",
   "execution_count": null,
   "id": "149d3ca6-c3cf-4ec7-93f1-2180c2433c78",
   "metadata": {
    "scrolled": true
   },
   "outputs": [],
   "source": [
    "simulation = MouseSimulation()\n",
    "simulation.SetGenerations(5)\n",
    "\n",
    "if False:\n",
    "    simulation.RunSimulation(render = True)"
   ]
  },
  {
   "cell_type": "markdown",
   "id": "e051e0a2-e103-40ac-a2ed-8510384e104f",
   "metadata": {},
   "source": [
    "During any step of the simulation, users can create data structures and save simulation outputs by implementing the `CreateDataStruct...` and `SaveData` methods of the `Simulation` class. In the `MouseSimulation` class, we implemented these methods to store the average fitness of each generation during seperate runs. In `CreateDataStructSimulation`, we initialize the `data` dictionary, which serves as our top-level data container     "
   ]
  },
  {
   "cell_type": "code",
   "execution_count": null,
   "id": "d4d6f228-8745-4158-852b-187be002a450",
   "metadata": {
    "scrolled": true
   },
   "outputs": [],
   "source": [
    "if False:\n",
    "    simulation.data"
   ]
  },
  {
   "cell_type": "markdown",
   "id": "99d371a8-22ec-49a9-b9ff-c7f69aebf7b1",
   "metadata": {},
   "source": [
    "### Question 1.7\n",
    "\n",
    "Choose an appropriate number of generations and rerun the simulation. Plot the average fitness as a function of the generation number for each run and motivate your choice.  "
   ]
  },
  {
   "cell_type": "code",
   "execution_count": null,
   "id": "5356de1b-7231-4763-986b-6673ebf5b1df",
   "metadata": {},
   "outputs": [],
   "source": [
    "generations = 100\n",
    "\n",
    "simulation.SetRuns(3)\n",
    "simulation.SetGenerations(generations)\n",
    "simulation.RunSimulation(render = False)\n",
    "\n",
    "# save your data\n",
    "filepath = 'population_fitness.pkl'\n",
    "\n",
    "with open(filepath, 'wb') as file:\n",
    "    pickle.dump(simulation.data, file)\n"
   ]
  },
  {
   "cell_type": "code",
   "execution_count": null,
   "id": "19678461-8f02-4f21-8c1c-5cb4d7e0e5bf",
   "metadata": {},
   "outputs": [],
   "source": [
    "# Load data\n",
    "filepath = 'population_fitness.pkl'\n",
    "\n",
    "with open(filepath, 'rb') as file:\n",
    "    data = pickle.load(file)\n",
    "\n",
    "# Your code goes here\n",
    "for fitness in data.values():\n",
    "\n",
    "    plt.plot(fitness)\n",
    "\n",
    "plt.xlabel('Generation')\n",
    "plt.ylabel('Average fitness')\n",
    "plt.show()"
   ]
  },
  {
   "cell_type": "markdown",
   "id": "aea52222-e666-47cc-a9d0-0f5dc7479534",
   "metadata": {},
   "source": [
    "--- \n",
    "\n",
    "**Your answer to question 1.7 goes here**\n",
    "\n",
    "---"
   ]
  },
  {
   "cell_type": "markdown",
   "id": "079e41fe-1817-4890-9a62-c40cd75fa1d9",
   "metadata": {},
   "source": [
    "Throughout the life cycle of the simulation object, The `GeneticAlgorithm` class saves a copy of the genome of best ever performing agent. It can be accesed via "
   ]
  },
  {
   "cell_type": "code",
   "execution_count": null,
   "id": "c274fbcb-836d-46b1-b6ff-010e04d730f7",
   "metadata": {
    "scrolled": true
   },
   "outputs": [],
   "source": [
    "bestGeno = simulation.theGA.bestEverGenome"
   ]
  },
  {
   "cell_type": "markdown",
   "id": "3629c2e3-5a56-4a1d-bca4-c5cc7893a510",
   "metadata": {},
   "source": [
    "Let's create a clone of this agent"
   ]
  },
  {
   "cell_type": "code",
   "execution_count": null,
   "id": "65394409-0859-429e-a06a-ae65673b2b1a",
   "metadata": {},
   "outputs": [],
   "source": [
    "mouse = Mouse()\n",
    "mouse.SetGenotype(simulation.theGA.bestEverGenome)"
   ]
  },
  {
   "cell_type": "markdown",
   "id": "cc55b976-b02b-4fc7-9692-f64d91b370ed",
   "metadata": {},
   "source": [
    "Let's mimick some sensor input into the brain of the mouse and check the control output"
   ]
  },
  {
   "cell_type": "code",
   "execution_count": null,
   "id": "ed13c5f1-7af1-473a-8d4d-eaf41cd16586",
   "metadata": {
    "jp-MarkdownHeadingCollapsed": true,
    "scrolled": true
   },
   "outputs": [],
   "source": [
    "def RandomOutput(self):\n",
    "\n",
    "    angle = np.random.uniform(-np.pi, np.pi) \n",
    "    print(f'input angle: {angle * 180 / np.pi}')\n",
    "    \n",
    "    return angle\n",
    "\n",
    "sensor = mouse.sensors['angle']\n",
    "# Overwrite GetOutput sensor's output method to output random angles\n",
    "sensor.GetOutput = RandomOutput.__get__(sensor, type(sensor)) \n",
    "\n",
    "for _ in range(10): \n",
    "\n",
    "    mouse.Control()\n",
    "    print(f'output control: {mouse.controls}')\n"
   ]
  },
  {
   "cell_type": "markdown",
   "id": "9d13ba67-cdc0-41aa-b6f0-19491c2f4b81",
   "metadata": {},
   "source": [
    "### Question 1.8\n",
    "\n",
    "Describe the relationship between input angles and the output control values learned by the agent. Why does this relationship lead to a good performance?"
   ]
  },
  {
   "cell_type": "markdown",
   "id": "6162fcef-e358-4396-a838-28ee5f4967ad",
   "metadata": {},
   "source": [
    "---\n",
    "\n",
    "**Your answer to Question 1.8 goes here**\n",
    "\n",
    "---"
   ]
  },
  {
   "cell_type": "markdown",
   "id": "aabffb58-ef7a-4f8a-99a3-bc912e4b460b",
   "metadata": {},
   "source": [
    "Let's render the simulation and examine how the behaviour of the mice changes during evolution. You can select the High Speed item in the Simulation drop-down menu to turn the rendering on and off to speed up the simulation.  "
   ]
  },
  {
   "cell_type": "code",
   "execution_count": null,
   "id": "63c2dcc3-f9ee-40d7-9cc0-c97dcad2a4aa",
   "metadata": {},
   "outputs": [],
   "source": [
    "simulation.SetRuns(1)\n",
    "\n",
    "if False:\n",
    "    simulation.RunSimulation(render = True)"
   ]
  },
  {
   "attachments": {},
   "cell_type": "markdown",
   "id": "41c35de2-2220-4e4d-aabb-ac25cbd03a42",
   "metadata": {},
   "source": [
    "### Question 1.9\n",
    "\n",
    "From your observation, can you identify different phases during the mice's evolution? If so, describe the behaviour of the agents during each phase. Correlate your findings with your answer from Question 1.7 and include screenshots that illustrate your findings.    "
   ]
  },
  {
   "cell_type": "markdown",
   "id": "3e654556-9557-42c0-932c-a6186e6bafd4",
   "metadata": {},
   "source": [
    "---\n",
    "\n",
    "**Your answer to Question 1.9 goes here**\n",
    "\n",
    "---"
   ]
  },
  {
   "cell_type": "markdown",
   "id": "3fa2372e-4985-4863-a16c-aa1b0474453d",
   "metadata": {},
   "source": [
    "### Question 1.10 \n",
    "\n",
    "Discuss whether the mice display collective behaviour."
   ]
  },
  {
   "cell_type": "markdown",
   "id": "e35dd0ee-2b46-426d-8208-96f3099a738f",
   "metadata": {},
   "source": [
    "---\n",
    "\n",
    "**Your answer to Question 1.10 goes here**\n",
    "\n",
    "---"
   ]
  },
  {
   "cell_type": "markdown",
   "id": "c10b7726-606e-4eed-834a-a7ad2b2da615",
   "metadata": {},
   "source": [
    "Up to this point, we defined the mouse's fitness has the number of cheese it finds during an assessment. However, in nature, organisms need to balance energy expenditure vs energy gain when foraging food. For the sake of simplicity, let's assume that the energy expenditure of mice can be approximated to be proportional to their travel distance. In BEAST, the distance an agent travelled during an assessment will be stored in its `distanceTravelled` attribute  "
   ]
  },
  {
   "cell_type": "code",
   "execution_count": null,
   "id": "16858f2f-fcd3-4df7-8168-6345c3b5ec14",
   "metadata": {
    "scrolled": true
   },
   "outputs": [],
   "source": [
    "StuartLittle.distanceTravelled"
   ]
  },
  {
   "cell_type": "markdown",
   "id": "6904a3f3-4502-4063-8792-a8c45caba280",
   "metadata": {},
   "source": [
    "### Question 1.11\n",
    "\n",
    "Implement a new fitness function that accounts for both the amount of cheese eaten and energy expended by the mouse. Discuss the rational behind your implementation. Simulate multiple runs using an appropriate number of generations with your new fitness function. Plot the average fitness as a function of the generation number for each run."
   ]
  },
  {
   "cell_type": "code",
   "execution_count": null,
   "id": "bd8ef705-cc95-4fba-ad9d-74bba8dbc7d7",
   "metadata": {},
   "outputs": [],
   "source": [
    "# Question 1.10\n",
    "\n",
    "def NewGetFitness(self):\n",
    "\n",
    "    pass\n",
    "    # Your code goes here\n",
    "    return self.cheesesFound / self.distanceTravelled\n",
    "\n",
    "# Overwrite old GetFitness method\n",
    "Mouse.GetFitness = NewGetFitness  \n",
    "\n",
    "# Run simulations\n",
    "simulation = MouseSimulation()\n",
    "# Your code goes here\n",
    "simulation.SetRuns(3)\n",
    "simulation.SetGenerations(100)\n",
    "simulation.RunSimulation(render = False)\n",
    "\n",
    "# Save your data\n",
    "filepath = 'population_new_fitness.pkl'\n",
    "\n",
    "with open(filepath, 'wb') as file:\n",
    "    pickle.dump(simulation.data, file)"
   ]
  },
  {
   "cell_type": "code",
   "execution_count": null,
   "id": "3d9312e9-ad0c-47d9-80d9-467d329da6c2",
   "metadata": {},
   "outputs": [],
   "source": [
    "# Plot fitness\n",
    "filepath = 'population_new_fitness.pkl'\n",
    "\n",
    "with open(filepath, 'rb') as file:\n",
    "    data = pickle.load(file)\n",
    "\n",
    "# your code goes here\n",
    "for fitness in data.values():\n",
    "\n",
    "    plt.plot(fitness)\n",
    "\n",
    "plt.xlabel('Generation')\n",
    "plt.ylabel('Average fitness')\n",
    "plt.show()"
   ]
  },
  {
   "cell_type": "markdown",
   "id": "54a291b5-5094-4f8f-9594-133749ac5974",
   "metadata": {},
   "source": [
    "--- \n",
    "\n",
    "**Your answer to question 1.11 goes here**  \n",
    "\n",
    "---"
   ]
  },
  {
   "cell_type": "markdown",
   "id": "eeafc9aa-7f44-4d66-b21d-c8bc36d40aca",
   "metadata": {},
   "source": [
    "Have a look at the image below, assume that nearest cheese object the sensor detected has relative angle of (a), (b), (c) and (d), what value does the ```EvalNearestAngle.GetOutput``` method return? \n",
    "\n",
    "Your answer goes here.\n"
   ]
  },
  {
   "cell_type": "markdown",
   "id": "a040b535-cd32-4d35-81d8-fc75c404a1b6",
   "metadata": {},
   "source": [
    "Run and render the simulation for the new fitness function."
   ]
  },
  {
   "cell_type": "code",
   "execution_count": null,
   "id": "1a9922aa-424a-4da2-8a01-14c7562892eb",
   "metadata": {},
   "outputs": [],
   "source": [
    "simulation = MouseSimulation()\n",
    "simulation.SetRuns(1)\n",
    "simulation.SetGenerations(100)\n",
    "\n",
    "if False:\n",
    "    simulation.RunSimulation(render = True)"
   ]
  },
  {
   "cell_type": "markdown",
   "id": "b88c1721-faf1-462f-96c0-2657aad28d57",
   "metadata": {},
   "source": [
    "### Question 1.12\n",
    "\n",
    "Compare the behavior of the mice using the updated fitness function to their behavior with the previous fitness function. Discuss whether there are any differences in behavior and explain the reasons for these differences.     "
   ]
  },
  {
   "cell_type": "markdown",
   "id": "86ca6d16-b74f-4ed7-a221-0ad937ebac72",
   "metadata": {},
   "source": [
    "---\n",
    "\n",
    "**Your answer to question 1.12 goes here**\n",
    "\n",
    "---"
   ]
  },
  {
   "cell_type": "markdown",
   "id": "cd840b9b-a7dc-4f70-b686-a64a34f7f22c",
   "metadata": {},
   "source": [
    "### Question 1.13\n",
    "\n",
    "Discuss potential modifications to your fitness function that would enable you to place greater emphasis on either the number of cheese found or the distance traveled. Justify the effectiveness of your modifications based on how the GA's selection methods work."
   ]
  },
  {
   "cell_type": "markdown",
   "id": "ee6c93dc-b815-4b46-8502-b9316b199c5f",
   "metadata": {},
   "source": [
    "---\n",
    "\n",
    "**Your answer to question 1.13 goes here**\n",
    "\n",
    "---"
   ]
  },
  {
   "cell_type": "markdown",
   "id": "ba7f3762-36b0-47e1-af49-ab806fdfcab2",
   "metadata": {},
   "source": [
    "To make the mice more efficient, we want to add a another sensor that detects the nearest angle to other mice.  "
   ]
  },
  {
   "cell_type": "code",
   "execution_count": null,
   "id": "09aa1f56-bfa6-4758-a595-ac5827f8b4ba",
   "metadata": {
    "jp-MarkdownHeadingCollapsed": true
   },
   "outputs": [],
   "source": [
    "# Question 1.12\n",
    "\n",
    "class SmartMouse(Mouse):\n",
    "    \"\"\"\n",
    "    Evovable mouse with Feed-forward neural network as brain. \n",
    "    \"\"\"\n",
    "\n",
    "    def __init__(self, hidden = 4):\n",
    "\n",
    "        EvoFFNAnimat.__init__(self)\n",
    "        \n",
    "        self.cheesesFound = 0\n",
    "        self.SetSolid(False)\n",
    "\n",
    "        sensorCheeseRange = 400.0  \n",
    "        self.AddSensor(\"angle\", NearestAngleSensor(Cheese, range=sensorCheeseRange))\n",
    "\n",
    "        # Your code goes here\n",
    "        sensorMiceRange = 100.0\n",
    "        \n",
    "        self.AddSensor(\"mice\", NearestAngleSensor(SmartMouse, range=sensorMiceRange, reverseScale = True))\n",
    "        self.SetInteractionRange(max(sensorCheeseRange, sensorMiceRange))\n",
    "                \n",
    "        self.AddFFNBrain(hidden = hidden)\n",
    "\n",
    "    def GetFitness(self) -> float:\n",
    "\n",
    "        pass\n",
    "        # your implementation goes here\n",
    "    \n",
    "        return self.cheesesFound #/ np.log10(self.distanceTravelled) \n",
    "\n",
    "class SmartMouseSimulation(Simulation):\n",
    "    \"\"\"Represents a simulation with mice and cheese.\"\"\"\n",
    "\n",
    "    def __init__(self):\n",
    "        \"\"\"Initialize a new MouseSimulation.\"\"\"\n",
    "        super().__init__('Mouse')\n",
    "\n",
    "        self.SetRuns(1)\n",
    "        self.SetGenerations(10)        \n",
    "        self.SetTimeSteps(500)\n",
    "        self.theGA = GeneticAlgorithm(crossover = 0.25, mutation = 0.1, selection = GASelectionType.GA_ROULETTE)\n",
    "        \n",
    "        mice = Population(30, SmartMouse, self.theGA)\n",
    "        cheese = Group(30, Cheese)\n",
    "        # Adds population of mice and group of cheese to the simulation \n",
    "        self.Add('theMice', mice)\n",
    "        self.Add('thecheese', cheese)\n",
    "        \n",
    "        self.whatToLog['Simulation'] = self.whatToLog['Run'] = self.whatToLog['Generation'] = True\n",
    "        self.whatToSave['Simulation'] = self.whatToSave['Run'] = self.whatToSave['Generation'] = True\n",
    "\n",
    "    def LogEndGeneration(self):\n",
    "        super().LogEndGeneration()\n",
    "        self.logger.info(f'Average fitness {self.avgFitness:.5f}')\n",
    "\n",
    "    def CreateDataStructSimulation(self):\n",
    "        self.data = {}\n",
    "\n",
    "    def CreateDataStructRun(self):\n",
    "        self.averageFitness = []\n",
    "\n",
    "    def SaveGeneration(self):\n",
    "        self.avgFitness = np.mean(self.contents['theMice'].AverageFitnessScoreOfMembers())\n",
    "        self.averageFitness.append(self.avgFitness)\n",
    "\n",
    "        return\n",
    "\n",
    "    def SaveRun(self):\n",
    "        self.data[f'Run{self.Run}'] = self.averageFitness\n",
    "\n"
   ]
  },
  {
   "cell_type": "markdown",
   "id": "07610b93-c94f-4b45-8ef4-dcd0368fa4aa",
   "metadata": {},
   "source": [
    "### Question 1.14\n",
    "\n",
    "Run the simulations for an appropriate number of generations and check whether the fitness of the mice has improved compared to the simple `Mouse` class. Experiment with different sensor ranges for the cheese and mice sensor and justify your choice. "
   ]
  },
  {
   "cell_type": "code",
   "execution_count": null,
   "id": "9cd68b8a-e5f5-4b4b-98ef-b9b2839825e2",
   "metadata": {
    "scrolled": true
   },
   "outputs": [],
   "source": [
    "# Run simulations\n",
    "simulation = SmartMouseSimulation()\n",
    "# Your code goes here\n",
    "simulation.SetRuns(3)\n",
    "simulation.SetGenerations(100)\n",
    "simulation.RunSimulation(render = False)\n",
    "\n",
    "# Save your data\n",
    "filepath = 'smart_population_fitness.pkl'\n",
    "\n",
    "with open(filepath, 'wb') as file:\n",
    "    pickle.dump(simulation.data, file)"
   ]
  },
  {
   "cell_type": "code",
   "execution_count": null,
   "id": "4ace3c6b-cbd4-46c7-b709-3581875421a8",
   "metadata": {
    "scrolled": true
   },
   "outputs": [],
   "source": [
    "# Plot fitness\n",
    "filepath = 'population_fitness.pkl'\n",
    "\n",
    "with open(filepath, 'rb') as file:\n",
    "    data_simple = pickle.load(file)\n",
    "\n",
    "filepath = 'smart_population_fitness.pkl'\n",
    "\n",
    "with open(filepath, 'rb') as file:\n",
    "    data_smart = pickle.load(file)\n",
    "\n",
    "# your code goes here\n",
    "for fitness in data_simple.values():\n",
    "    plt.plot(fitness, c='k')\n",
    "\n",
    "for fitness in data_smart.values():\n",
    "\n",
    "    plt.plot(fitness, c='r')\n",
    "\n",
    "plt.xlabel('Generation')\n",
    "plt.ylabel('Average fitness')\n",
    "plt.show()"
   ]
  },
  {
   "cell_type": "markdown",
   "id": "05aa2651-0e5c-4e19-88e5-b4e6fe81d2f3",
   "metadata": {},
   "source": [
    "--- \n",
    "\n",
    "**Your answer to question 1.14 goes here**  \n",
    "\n",
    "---"
   ]
  },
  {
   "cell_type": "markdown",
   "id": "469958fe-94b7-4b5c-9a69-16a724f6fea2",
   "metadata": {},
   "source": [
    "# Part 2: Predator and Pray\n",
    "\n",
    "In second part of the coursework, we design a simple predator-prey experiment. Similar to part one of the courwork, as a first step, we define all the agents and objects that will be used in the experiment. In particular, we define a `Prey` and `Predator` class which both inherit from the `core.agents.neuralanimat.EvoFFNAnimat` class       "
   ]
  },
  {
   "cell_type": "code",
   "execution_count": null,
   "id": "9c662262-6459-4dd5-a302-09140a136d49",
   "metadata": {},
   "outputs": [],
   "source": [
    "from pybeast.core.agents.neuralanimat import EvoFFNAnimat\n",
    "from pybeast.core.sensors.sensor import ProximitySensor\n",
    "\n",
    "class Prey(EvoFFNAnimat):\n",
    "\n",
    "    def __init__(self):\n",
    "        super().__init__()\n",
    "\n",
    "        self.timesEaten = 0\n",
    "\n",
    "        sensorRange = 400.0\n",
    "        self.AddSensor('left', ProximitySensor(Predator, np.pi / 4, sensorRange, +np.pi / 8))\n",
    "        self.AddSensor('right', ProximitySensor(Predator, np.pi / 4, sensorRange, -np.pi / 8))\n",
    "        self.SetInteractionRange(sensorRange)\n",
    "\n",
    "        # Init brain\n",
    "        self.AddFFNBrain(hidden=4)\n",
    "\n",
    "        self.SetSolid(False)\n",
    "        self.SetMinSpeed(0.0)\n",
    "        self.SetMaxSpeed(125.0)\n",
    "\n",
    "    def Control(self):\n",
    "        \"\"\"\n",
    "        Overwrite EvoFFNAnimat control method.\n",
    "        \"\"\"\n",
    "        super().Control()\n",
    "\n",
    "        for n, k in enumerate(self.controls.keys()):\n",
    "            self.controls[k] = 0.5 * (self.controls[k] + 1.0)\n",
    "    \n",
    "    def Eaten(self):\n",
    "        \"\"\"\n",
    "        Gets called when prey collides with 'Predator'\n",
    "        \"\"\"\n",
    "        self.timesEaten += 1\n",
    "        # After pray has been eaten, respawn at random location\n",
    "        self.location = self.myWorld.RandomLocation()\n",
    "        self.trail.Clear()\n",
    "\n",
    "    def GetFitness(self) -> float:\n",
    "        \"\"\"\n",
    "        Returns prey's fitness.\n",
    "        \"\"\"\n",
    "        # Your code goes here\n",
    "        pass\n",
    "\n",
    "        if self.timesEaten == 0:\n",
    "            return 1.0\n",
    "        return 1.0 / (self.timesEaten + 1.0)\n",
    "\n",
    "    def Reset(self):\n",
    "        \"\"\"\n",
    "        Reset prey after assessment\n",
    "        \"\"\"\n",
    "        self.timesEaten = 0\n",
    "        super().Reset()\n",
    "\n",
    "class Predator(EvoFFNAnimat):\n",
    "\n",
    "    def __init__(self):\n",
    "\n",
    "        super().__init__()\n",
    "    \n",
    "        self.preyEaten = 0\n",
    "\n",
    "        sensorRange = 200.0\n",
    "        self.AddSensor('left', ProximitySensor(Prey, np.pi/4, sensorRange,  +np.pi/8))\n",
    "        self.AddSensor('right', ProximitySensor(Prey, np.pi/4, sensorRange, -np.pi/8))\n",
    "        self.SetInteractionRange(sensorRange)\n",
    "\n",
    "        self.AddFFNBrain(hidden = 4)\n",
    "\n",
    "        self.SetSolid(False)\n",
    "        self.SetMinSpeed(0.0)\n",
    "        self.SetMaxSpeed(100.0)\n",
    "        self.SetRadius(10.0)\n",
    "\n",
    "    def Control(self):\n",
    "        \"\"\"\n",
    "        Overwrite EvoFFNAnimat control method.\n",
    "        \"\"\"\n",
    "        super().Control()\n",
    "\n",
    "        for n, k in enumerate(self.controls.keys()):\n",
    "            self.controls[k] = 0.5 * (self.controls[k] + 1.0)\n",
    "\n",
    "    \n",
    "    def OnCollision(self, obj):\n",
    "\n",
    "        if isinstance(obj, Prey):\n",
    "            self.preyEaten += 1\n",
    "            obj.Eaten()\n",
    "\n",
    "        super().OnCollision(obj)\n",
    "\n",
    "    def GetFitness(self):\n",
    "        \n",
    "        # Your code goes here\n",
    "        return self.preyEaten\n",
    "\n",
    "    def Reset(self):\n",
    "        \"\"\"\n",
    "        Reset prey after assessment\n",
    "        \"\"\"\n",
    "        super().Control()\n",
    "        self.preyEaten = 0\n"
   ]
  },
  {
   "cell_type": "markdown",
   "id": "7d135c3a-0b0f-466d-abc5-52aa05392120",
   "metadata": {},
   "source": [
    "### Question 2.1\n",
    "\n",
    "Implement the appropriate fitness mehtods in the `Pray` and `Preditor` classes. "
   ]
  },
  {
   "cell_type": "markdown",
   "id": "d6887213-73bc-4f27-80e0-b966dc49bc8a",
   "metadata": {},
   "source": [
    "To run the Predator-Prey experiment, we define a new simulation class. "
   ]
  },
  {
   "cell_type": "code",
   "execution_count": null,
   "id": "92840c2c-ccd0-4765-b5be-baaf05d86d8b",
   "metadata": {},
   "outputs": [],
   "source": [
    "from pybeast.core.simulation import Simulation\n",
    "from pybeast.core.evolve.geneticalgorithm import GeneticAlgorithm, GASelectionType\n",
    "from pybeast.core.evolve.population import Population\n",
    "\n",
    "class ChaseSimulation(Simulation):\n",
    "\n",
    "    def __init__(self):\n",
    "        super().__init__('Chase')\n",
    "\n",
    "        self.SetRuns(1)\n",
    "        self.SetGenerations(10)\n",
    "        self.SetAssessments(1)\n",
    "        self.SetTimeSteps(500)\n",
    "        \n",
    "        popSizePrey, popSizePred = 20, 20\n",
    "        \n",
    "        gaPrey = GeneticAlgorithm(0.25, 0.1, elitism=2, selection = GASelectionType.GA_ROULETTE)\n",
    "        gaPred = GeneticAlgorithm(0.25, 0.1, elitism=2, selection = GASelectionType.GA_ROULETTE)\n",
    "\n",
    "\n",
    "        self.Add('prey', Population(popSizePrey, Prey, gaPrey, teamsize = 10))\n",
    "        self.Add('predator', Population(popSizePred, Predator, gaPred, teamsize = 10))\n",
    "\n",
    "        # Specify what to log\n",
    "        self.whatToLog['Simulation'] = self.whatToLog['Run'] = self.whatToLog['Generation'] = True\n",
    "\n",
    "    def LogEndGeneration(self):\n",
    "        super().LogEndGeneration()\n",
    "        self.logger.info(f'Average fitness prey {self.avgFitnessPrey:.5f} ')\n",
    "        self.logger.info(f'Average fitness predator {self.avgFitnessPred:.5f} ')\n",
    "\n",
    "    def CreateDataStructSimulation(self):\n",
    "        self.data = {}\n",
    "\n",
    "    def CreateDataStructRun(self):\n",
    "        \n",
    "        self.avgFitnessPreyList = []\n",
    "        self.avgFitnessPredList = []\n",
    "\n",
    "    def SaveGeneration(self):\n",
    "\n",
    "        self.avgFitnessPrey = np.mean(self.contents['prey'].AverageFitnessScoreOfMembers())\n",
    "        self.avgFitnessPreyList.append(self.avgFitnessPrey)\n",
    "        self.avgFitnessPred = np.mean(self.contents['pred'].AverageFitnessScoreOfMembers())\n",
    "        self.avgFitnessPredList.append(self.avgFitnessPred)\n",
    "\n",
    "        return\n",
    "\n",
    "    def SaveRun(self):\n",
    "        self.data[f'Run{self.Run}'] = (self.avgFitnessPreyList, self.avgFitnessPredList)\n",
    "\n"
   ]
  },
  {
   "cell_type": "markdown",
   "id": "66d02620-68eb-4e79-9e2d-db9b9d9bc66c",
   "metadata": {},
   "source": [
    "Let's run and render the simulation to see how it looks like."
   ]
  },
  {
   "cell_type": "code",
   "execution_count": null,
   "id": "2ee4619e-fac9-40f9-bfc8-2ac3df886563",
   "metadata": {},
   "outputs": [],
   "source": [
    "simulation = ChaseSimulation()\n",
    "\n",
    "if False:\n",
    "    simulation.RunSimulation(render = True)"
   ]
  },
  {
   "cell_type": "markdown",
   "id": "2f2a280e-42a8-44e3-9c13-2ecb7cf9d240",
   "metadata": {},
   "source": []
  },
  {
   "cell_type": "markdown",
   "id": "3c873a04-86de-46fd-ba46-1c59156d3c35",
   "metadata": {},
   "source": [
    "### Question 2.2\n",
    "\n",
    "Run the simulation for three runs for an appropriate number of generations. Plot the fitness for both type of agents as a function of the generation count. Think of a good way to represent, visualise and compare your results in plots. "
   ]
  },
  {
   "cell_type": "code",
   "execution_count": null,
   "id": "e401eb90-1c37-4044-b31d-67a52b72d64a",
   "metadata": {},
   "outputs": [],
   "source": [
    "simulation.SetRuns(3)\n",
    "simulation.SetGenerations(100)\n",
    "simulation.RunSimulation(render = False)\n",
    "\n",
    "# Save your data\n",
    "filepath = 'chase_population_fitness.pkl'\n",
    "\n",
    "with open(filepath, 'wb') as file:\n",
    "    pickle.dump(simulation.data, file)\n"
   ]
  },
  {
   "cell_type": "code",
   "execution_count": null,
   "id": "848da306-9e32-400e-8202-267ce716cc74",
   "metadata": {},
   "outputs": [],
   "source": [
    "# Plot fitness\n",
    "filepath = 'population_fitness.pkl'\n",
    "\n",
    "with open(filepath, 'rb') as file:\n",
    "    data_simple = pickle.load(file)\n",
    "\n",
    "filepath = 'smart_population_fitness.pkl'\n",
    "\n",
    "with open(filepath, 'rb') as file:\n",
    "    data_smart = pickle.load(file)\n",
    "\n",
    "# your code goes here\n",
    "for fitness in data_simple.values():\n",
    "    plt.plot(fitness, c='k')\n",
    "\n",
    "for fitness in data_smart.values():\n",
    "\n",
    "    plt.plot(fitness, c='r')\n",
    "\n",
    "plt.xlabel('Generation')\n",
    "plt.ylabel('Average fitness')\n",
    "plt.show()"
   ]
  },
  {
   "cell_type": "markdown",
   "id": "8b061551-d9f2-4a66-9e4f-a0e4e4366efd",
   "metadata": {},
   "source": [
    "### Question 2.3 \n",
    "\n",
    "Comparing the fitness plots for the same runs, do you see evidence of co-evolution? Discuss and evidence you answer "
   ]
  },
  {
   "cell_type": "markdown",
   "id": "5f47e7a3-0f51-40cd-b98d-8a81203167da",
   "metadata": {},
   "source": [
    "--- \n",
    "\n",
    "**Your answer to question 2.3 goes here**  \n",
    "\n",
    "---"
   ]
  },
  {
   "cell_type": "markdown",
   "id": "ffee9d82-42ab-48d7-abd8-1084d0941c05",
   "metadata": {},
   "source": [
    "### Question 2.4\n",
    "\n",
    "Do you consider the behaviour of the agents to be intelligent? Argue and reason your answer, and give your own motivation and evidence (for intelligence or for its absence, or for inconclusive evidence). In your answer, consider one or more definitions of intelligence. Some definitions may come from the scientific literature, for example the paper ‘Intelligence without Representation’ by\n",
    "Rodney Brooks, which can be found on Minerva. If you wish (note, this is not required) you may\n",
    "propose your own definition of intelligence in your answer."
   ]
  },
  {
   "cell_type": "markdown",
   "id": "71214f71-02ae-45f7-9832-a3c6edabc0f9",
   "metadata": {},
   "source": [
    "--- \n",
    "\n",
    "**Your answer to question 2.4 goes here**  \n",
    "\n",
    "---"
   ]
  }
 ],
 "metadata": {
  "kernelspec": {
   "display_name": "pybeast",
   "language": "python",
   "name": "pybeast"
  },
  "language_info": {
   "codemirror_mode": {
    "name": "ipython",
    "version": 3
   },
   "file_extension": ".py",
   "mimetype": "text/x-python",
   "name": "python",
   "nbconvert_exporter": "python",
   "pygments_lexer": "ipython3",
   "version": "3.12.3"
  }
 },
 "nbformat": 4,
 "nbformat_minor": 5
}
